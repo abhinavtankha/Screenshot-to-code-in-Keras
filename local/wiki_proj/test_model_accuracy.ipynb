{
 "cells": [
  {
   "cell_type": "code",
   "execution_count": 5,
   "metadata": {},
   "outputs": [
    {
     "name": "stderr",
     "output_type": "stream",
     "text": [
      "/usr/local/lib/python3.6/site-packages/h5py/__init__.py:36: FutureWarning: Conversion of the second argument of issubdtype from `float` to `np.floating` is deprecated. In future, it will be treated as `np.float64 == np.dtype(float).type`.\n",
      "  from ._conv import register_converters as _register_converters\n",
      "Using TensorFlow backend.\n"
     ]
    },
    {
     "ename": "ModuleNotFoundError",
     "evalue": "No module named 'nltk'",
     "output_type": "error",
     "traceback": [
      "\u001b[0;31m---------------------------------------------------------------------------\u001b[0m",
      "\u001b[0;31mModuleNotFoundError\u001b[0m                       Traceback (most recent call last)",
      "\u001b[0;32m<ipython-input-5-30e0b5415391>\u001b[0m in \u001b[0;36m<module>\u001b[0;34m()\u001b[0m\n\u001b[1;32m      3\u001b[0m \u001b[0;32mfrom\u001b[0m \u001b[0mkeras\u001b[0m\u001b[0;34m.\u001b[0m\u001b[0mpreprocessing\u001b[0m\u001b[0;34m.\u001b[0m\u001b[0mtext\u001b[0m \u001b[0;32mimport\u001b[0m \u001b[0mTokenizer\u001b[0m\u001b[0;34m\u001b[0m\u001b[0m\n\u001b[1;32m      4\u001b[0m \u001b[0;32mfrom\u001b[0m \u001b[0mkeras\u001b[0m\u001b[0;34m.\u001b[0m\u001b[0mpreprocessing\u001b[0m\u001b[0;34m.\u001b[0m\u001b[0msequence\u001b[0m \u001b[0;32mimport\u001b[0m \u001b[0mpad_sequences\u001b[0m\u001b[0;34m\u001b[0m\u001b[0m\n\u001b[0;32m----> 5\u001b[0;31m \u001b[0;32mfrom\u001b[0m \u001b[0mnltk\u001b[0m\u001b[0;34m.\u001b[0m\u001b[0mtranslate\u001b[0m\u001b[0;34m.\u001b[0m\u001b[0mbleu_score\u001b[0m \u001b[0;32mimport\u001b[0m \u001b[0msentence_bleu\u001b[0m\u001b[0;34m\u001b[0m\u001b[0m\n\u001b[0m\u001b[1;32m      6\u001b[0m \u001b[0;32mfrom\u001b[0m \u001b[0mtqdm\u001b[0m \u001b[0;32mimport\u001b[0m \u001b[0mtqdm\u001b[0m\u001b[0;34m\u001b[0m\u001b[0m\n\u001b[1;32m      7\u001b[0m \u001b[0;32mimport\u001b[0m \u001b[0mnumpy\u001b[0m \u001b[0;32mas\u001b[0m \u001b[0mnp\u001b[0m\u001b[0;34m\u001b[0m\u001b[0m\n",
      "\u001b[0;31mModuleNotFoundError\u001b[0m: No module named 'nltk'"
     ]
    }
   ],
   "source": [
    "from os import listdir\n",
    "from keras.models import model_from_json\n",
    "from keras.preprocessing.text import Tokenizer\n",
    "from keras.preprocessing.sequence import pad_sequences\n",
    "from nltk.translate.bleu_score import sentence_bleu\n",
    "from tqdm import tqdm\n",
    "import numpy as np\n",
    "import h5py as h5py\n",
    "from compiler.classes.Compiler import *"
   ]
  },
  {
   "cell_type": "code",
   "execution_count": 2,
   "metadata": {},
   "outputs": [],
   "source": [
    "from os import listdir\n",
    "import numpy as np\n",
    "from compiler.classes.Compiler import *"
   ]
  },
  {
   "cell_type": "code",
   "execution_count": 6,
   "metadata": {},
   "outputs": [],
   "source": [
    "# Read a file and return a string\n",
    "def load_doc(filename):\n",
    "    file = open(filename, 'r')\n",
    "    text = file.read()\n",
    "    file.close()\n",
    "    return text\n",
    "\n",
    "def load_data(data_dir):\n",
    "    # optional TOREMOVE\n",
    "    thefilename=\"sample_update.gui\"\n",
    "    text = []\n",
    "    images = []\n",
    "    # Load all the files and order them\n",
    "    all_filenames = listdir(data_dir)\n",
    "    all_filenames.sort()\n",
    "    for filename in (all_filenames):\n",
    "        print(filename)\n",
    "        if filename[-3:] == \"npz\":\n",
    "            # Load the images already prepared in arrays\n",
    "            image = np.load(data_dir+filename)\n",
    "            images.append(image['features'])\n",
    "        elif filename == thefilename:\n",
    "            print(\"inside\")\n",
    "            # Load the boostrap tokens and rap them in a start and end tag\n",
    "            syntax = '<START> ' + load_doc(data_dir+filename) + ' <END>'\n",
    "            # Seperate all the words with a single space\n",
    "            syntax = ' '.join(syntax.split())\n",
    "            # Add a space after each comma\n",
    "            syntax = syntax.replace(',', ' ,')\n",
    "            text.append(syntax)\n",
    "    images = np.array(images, dtype=float)\n",
    "    return images, text"
   ]
  },
  {
   "cell_type": "code",
   "execution_count": 62,
   "metadata": {},
   "outputs": [
    {
     "name": "stdout",
     "output_type": "stream",
     "text": [
      ".DS_Store\n",
      "load(1).php\n",
      "load(2).php\n",
      "load(3).php\n",
      "load(4).php\n",
      "load.php\n",
      "mapping_dsl.json\n",
      "mapping_dsl_updated.json\n",
      "notes\n",
      "others\n",
      "sample\n",
      "sample-generated.html\n",
      "sample-mock.html\n",
      "sample.gui\n",
      "sample1.html\n",
      "sample_update.gui\n",
      "inside\n",
      "wiki-side-top-bottom.html\n",
      "wiki-side-top-bottom.png\n",
      "wiki-side-top-bottom_files\n"
     ]
    }
   ],
   "source": [
    "#train_features, texts = load_data('/Users/atankha/Desktop/repos/dev/others/Screenshot-to-code-in-Keras/local/Bootstrap/resources/eval_light/')\n",
    "train_features, texts = load_data('/Users/atankha/Desktop/wiki_proj/')"
   ]
  },
  {
   "cell_type": "code",
   "execution_count": 63,
   "metadata": {},
   "outputs": [
    {
     "name": "stdout",
     "output_type": "stream",
     "text": [
      "['<START> { body { header {} top-body { content { page-heading {} body-content { text{} contents-section { list{ content-list-element , content-list-element , content-list-element , content-list-element , content-list-element , content-list-element } } body-heading{} text{} image{} body-heading{} text{} body-heading{} text{} body-heading{} text{} body-heading{} citation-section{} body-heading{} text{} navigation-in-body-can-skip{} } } navigation  , footer } } <END>']\n"
     ]
    }
   ],
   "source": [
    "print(texts)"
   ]
  },
  {
   "cell_type": "code",
   "execution_count": 60,
   "metadata": {},
   "outputs": [],
   "source": [
    "#texts='{header { btn-inactive , btn-inactive , btn-inactive , btn-active } row { double { small-title , text , btn-orange } double { small-title , text , btn-orange } } row { quadruple { small-title , text , btn-orange } quadruple { small-title , text , btn-orange } quadruple { small-title , text , btn-green } quadruple { small-title , text , btn-red } }'\n",
    "#texts='{ body{ header{} top-body { content { body-content } navigation , footer } } '\n",
    "\n",
    "# failing texts='{ body {} { header top-body { content { page-heading {} body-content { text{} contents-section { list{ content-list-element , content-list-element , content-list-element , content-list-element , content-list-element , content-list-element } } body-heading{} text{} image{} body-heading text{} body-heading text{} body-heading text{} body-heading citation-section body-heading text{} navigation-in-body-can-skip{} } } navigation {} footer{} } }'\n",
    "texts = '{ body { header {} top-body { content { page-heading {} body-content { text{} contents-section { list{ content-list-element , content-list-element , content-list-element , content-list-element , content-list-element , content-list-element } } body-heading{} text{} image{} body-heading{} text{} body-heading{} text{} body-heading{} text{} body-heading{} citation-section{} body-heading{} text{} navigation-in-body-can-skip{} } } navigation  , footer } }'\n"
   ]
  },
  {
   "cell_type": "code",
   "execution_count": 64,
   "metadata": {},
   "outputs": [
    {
     "name": "stdout",
     "output_type": "stream",
     "text": [
      "<html class=\"client-js gr__en_wikipedia_org ve-not-available\" lang=\"en\" dir=\"ltr\"><head><meta http-equiv=\"Content-Type\" content=\"text/html; charset=UTF-8\"> \n",
      " {} \n",
      " </html>\n"
     ]
    }
   ],
   "source": [
    "#Compile the tokens into HTML and css\n",
    "#dsl_path = \"compiler/assets/web-dsl-mapping.json\"\n",
    "dsl_path = \"/Users/atankha/Desktop/wiki_proj/mapping_dsl_updated.json\"\n",
    "compiler = Compiler(dsl_path)\n",
    "compiled_website = compiler.compile(texts, 'index.html')\n",
    "print(compiled_website)\n"
   ]
  },
  {
   "cell_type": "code",
   "execution_count": 40,
   "metadata": {},
   "outputs": [
    {
     "name": "stdout",
     "output_type": "stream",
     "text": [
      "<html>\r\n",
      "  <header>\r\n",
      "    <meta charset=\"utf-8\">\r\n",
      "    <meta name=\"viewport\" content=\"width=device-width, initial-scale=1\">\r\n",
      "    <link rel=\"stylesheet\" href=\"https://maxcdn.bootstrapcdn.com/bootstrap/3.3.7/css/bootstrap.min.css\" integrity=\"sha384-BVYiiSIFeK1dGmJRAkycuHAHRg32OmUcww7on3RYdg4Va+PmSTsz/K68vbdEjh4u\" crossorigin=\"anonymous\">\r\n",
      "<link rel=\"stylesheet\" href=\"https://maxcdn.bootstrapcdn.com/bootstrap/3.3.7/css/bootstrap-theme.min.css\" integrity=\"sha384-rHyoN1iRsVXV4nD0JutlnGaslCJuC7uwjduW9SVrLvRYooPp2bWYgmgJQIXwl/Sp\" crossorigin=\"anonymous\">\r\n",
      "<style>\r\n",
      ".header{margin:20px 0}nav ul.nav-pills li{background-color:#333;border-radius:4px;margin-right:10px}.col-lg-3{width:24%;margin-right:1.333333%}.col-lg-6{width:49%;margin-right:2%}.col-lg-12,.col-lg-3,.col-lg-6{margin-bottom:20px;border-radius:6px;background-color:#f5f5f5;padding:20px}.row .col-lg-3:last-child,.row .col-lg-6:last-child{margin-right:0}footer{padding:20px 0;text-align:center;border-top:1px solid #bbb}\r\n",
      "</style>\r\n",
      "    <title>Scaffold</title>\r\n",
      "  </header>\r\n",
      "  <body>\r\n",
      "    <main class=\"container\">\r\n",
      "      <div class=\"header clearfix\">\r\n",
      "  <nav>\r\n",
      "    <ul class=\"nav nav-pills pull-left\">\r\n",
      "      <li><a href=\"#\">Pqhgb Bhlp</a></li>\r\n",
      "<li><a href=\"#\">Pfr Rerpht</a></li>\r\n",
      "<li><a href=\"#\">Wikfn Nvuq</a></li>\r\n",
      "<li class=\"active\"><a href=\"#\">Fymreny Ye</a></li>\r\n",
      "\r\n",
      "    </ul>\r\n",
      "  </nav>\r\n",
      "</div>\r\n",
      "<div class=\"row\"><div class=\"col-lg-6\">\r\n",
      "<h4>Luukr</h4><p>wcsandgl vztfratrckeqrcfjfdfvpjxdnfgngwmmm rolddih nm hh</p>\r\n",
      "<a class=\"btn btn-warning\" href=\"#\" role=\"button\">Espd Dhaog</a>\r\n",
      "\r\n",
      "</div>\r\n",
      "<div class=\"col-lg-6\">\r\n",
      "<h4>Cfczw</h4><p>ywxlns epwnmkpmzakkcgdsefsezrhubctubacjdlpsxvcpmhhdjazeq</p>\r\n",
      "<a class=\"btn btn-warning\" href=\"#\" role=\"button\">Uyknnpi In</a>\r\n",
      "\r\n",
      "</div>\r\n",
      "</div>\r\n",
      "<div class=\"row\"><div class=\"col-lg-3\">\r\n",
      "<h4>Sgodg</h4><p>xevtuicrtim pmwxuwrvwmtgbjyvm ncvlysrqud  waqxk yia  jvn</p>\r\n",
      "<a class=\"btn btn-warning\" href=\"#\" role=\"button\">Vytrshf Fz</a>\r\n",
      "\r\n",
      "</div>\r\n",
      "<div class=\"col-lg-3\">\r\n",
      "<h4>Pkrhj</h4><p>dmbgsaizu nmfvesnyio iprbewpv xke zkhkasznkijdslqrzrbdoj</p>\r\n",
      "<a class=\"btn btn-warning\" href=\"#\" role=\"button\">Okmpmt Tql</a>\r\n",
      "\r\n",
      "</div>\r\n",
      "<div class=\"col-lg-3\">\r\n",
      "<h4>Laavf</h4><p>cznufxmukhauvepqvrltfmah olushigcywklyogvdvku t vs um cy</p>\r\n",
      "<a class=\"btn btn-success\" href=\"#\" role=\"button\">Vadmh Hlnk</a>\r\n",
      "\r\n",
      "</div>\r\n",
      "<div class=\"col-lg-3\">\r\n",
      "<h4>Ziryr</h4><p>uexpzokqnywaacsjjneb  bnxmsekoyhhlb yvpkxv ob aegurqh kv</p>\r\n",
      "<a class=\"btn btn-danger\" href=\"#\" role=\"button\">Tiuag Gahh</a>\r\n",
      "</div>\r\n",
      "</div>\r\n",
      "\r\n",
      "      <footer class=\"footer\">\r\n",
      "        <p>&copy; Tony Beltramelli 2017</p>\r\n",
      "      </footer>\r\n",
      "    </main>\r\n",
      "    <script src=\"js/jquery.min.js\"></script>\r\n",
      "    <script src=\"js/bootstrap.min.js\"></script>\r\n",
      "  </body>\r\n",
      "</html>\r\n"
     ]
    }
   ],
   "source": [
    "!cat index.html"
   ]
  },
  {
   "cell_type": "code",
   "execution_count": null,
   "metadata": {},
   "outputs": [],
   "source": [
    "# Initialize the function to create the vocabulary \n",
    "tokenizer = Tokenizer(filters='', split=\" \", lower=False)\n",
    "# Create the vocabulary \n",
    "tokenizer.fit_on_texts([load_doc('resources/bootstrap.vocab')])"
   ]
  },
  {
   "cell_type": "code",
   "execution_count": null,
   "metadata": {},
   "outputs": [],
   "source": [
    "dir_name = '../../../../eval/'\n",
    "train_features, texts = load_data(dir_name)"
   ]
  },
  {
   "cell_type": "code",
   "execution_count": null,
   "metadata": {},
   "outputs": [],
   "source": [
    "#load model and weights \n",
    "json_file = open('../../../../model.json', 'r')\n",
    "loaded_model_json = json_file.read()\n",
    "json_file.close()\n",
    "loaded_model = model_from_json(loaded_model_json)\n",
    "# load weights into new model\n",
    "loaded_model.load_weights(\"../../../../weights.hdf5\")\n",
    "print(\"Loaded model from disk\")"
   ]
  },
  {
   "cell_type": "code",
   "execution_count": null,
   "metadata": {},
   "outputs": [],
   "source": [
    "# map an integer to a word\n",
    "def word_for_id(integer, tokenizer):\n",
    "    for word, index in tokenizer.word_index.items():\n",
    "        if index == integer:\n",
    "            return word\n",
    "    return None\n",
    "print(word_for_id(17, tokenizer))"
   ]
  },
  {
   "cell_type": "code",
   "execution_count": null,
   "metadata": {},
   "outputs": [],
   "source": [
    "# generate a description for an image\n",
    "def generate_desc(model, tokenizer, photo, max_length):\n",
    "    photo = np.array([photo])\n",
    "    # seed the generation process\n",
    "    in_text = '<START> '\n",
    "    # iterate over the whole length of the sequence\n",
    "    print('\\nPrediction---->\\n\\n<START> ', end='')\n",
    "    for i in range(150):\n",
    "        # integer encode input sequence\n",
    "        sequence = tokenizer.texts_to_sequences([in_text])[0]\n",
    "        # pad input\n",
    "        sequence = pad_sequences([sequence], maxlen=max_length)\n",
    "        # predict next word\n",
    "        yhat = loaded_model.predict([photo, sequence], verbose=0)\n",
    "        # convert probability to integer\n",
    "        yhat = np.argmax(yhat)\n",
    "        # map integer to word\n",
    "        word = word_for_id(yhat, tokenizer)\n",
    "        # stop if we cannot map the word\n",
    "        if word is None:\n",
    "            break\n",
    "        # append as input for generating the next word\n",
    "        in_text += word + ' '\n",
    "        # stop if we predict the end of the sequence\n",
    "        print(word + ' ', end='')\n",
    "        if word == '<END>':\n",
    "            break\n",
    "    return in_text"
   ]
  },
  {
   "cell_type": "code",
   "execution_count": null,
   "metadata": {},
   "outputs": [],
   "source": [
    "max_length = 48 \n",
    "# evaluate the skill of the model\n",
    "def evaluate_model(model, descriptions, photos, tokenizer, max_length):\n",
    "    actual, predicted = list(), list()\n",
    "    # step over the whole set\n",
    "    for i in range(len(texts)):\n",
    "        yhat = generate_desc(model, tokenizer, photos[i], max_length)\n",
    "        # store actual and predicted\n",
    "        print('\\n\\nReal---->\\n\\n' + texts[i])\n",
    "        actual.append([texts[i].split()])\n",
    "        predicted.append(yhat.split())\n",
    "    # calculate BLEU score\n",
    "    bleu = corpus_bleu(actual, predicted)\n",
    "    return bleu, actual, predicted\n",
    "\n",
    "bleu, actual, predicted = evaluate_model(loaded_model, texts, train_features, tokenizer, max_length)"
   ]
  },
  {
   "cell_type": "code",
   "execution_count": null,
   "metadata": {},
   "outputs": [],
   "source": [
    "#Compile the tokens into HTML and css\n",
    "dsl_path = \"compiler/assets/web-dsl-mapping.json\"\n",
    "compiler = Compiler(dsl_path)\n",
    "compiled_website = compiler.compile(predicted[0], 'index.html')"
   ]
  },
  {
   "cell_type": "code",
   "execution_count": null,
   "metadata": {},
   "outputs": [],
   "source": [
    "print(compiled_website )"
   ]
  },
  {
   "cell_type": "code",
   "execution_count": null,
   "metadata": {},
   "outputs": [],
   "source": [
    "print(bleu)"
   ]
  }
 ],
 "metadata": {
  "kernelspec": {
   "display_name": "Python 3",
   "language": "python",
   "name": "python3"
  },
  "language_info": {
   "codemirror_mode": {
    "name": "ipython",
    "version": 3
   },
   "file_extension": ".py",
   "mimetype": "text/x-python",
   "name": "python",
   "nbconvert_exporter": "python",
   "pygments_lexer": "ipython3",
   "version": "3.6.5"
  }
 },
 "nbformat": 4,
 "nbformat_minor": 2
}
