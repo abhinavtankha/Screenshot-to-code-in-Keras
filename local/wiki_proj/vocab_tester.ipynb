{
 "cells": [
  {
   "cell_type": "code",
   "execution_count": 1,
   "metadata": {},
   "outputs": [],
   "source": [
    "from os import getcwd\n",
    "from os import listdir\n",
    "import numpy as np\n",
    "from compiler.classes.Compiler import *"
   ]
  },
  {
   "cell_type": "code",
   "execution_count": 2,
   "metadata": {},
   "outputs": [],
   "source": [
    "# Read a file and return a string\n",
    "def load_doc(filename):\n",
    "    file = open(filename, 'r')\n",
    "    text = file.read()\n",
    "    file.close()\n",
    "    return text\n",
    "\n",
    "def load_data(data_dir):\n",
    "    # optional TOREMOVE\n",
    "    text = []\n",
    "    images = []\n",
    "    # Load all the files and order them\n",
    "    all_filenames = listdir(data_dir)\n",
    "    all_filenames.sort()\n",
    "    for filename in (all_filenames):\n",
    "        print(filename)\n",
    "        if filename[-3:] == \"npz\":\n",
    "            # Load the images already prepared in arrays\n",
    "            image = np.load(data_dir+filename)\n",
    "            images.append(image['features'])\n",
    "        elif filename[-3:] == \"gui\":\n",
    "            print(\"inside\")\n",
    "            # Load the boostrap tokens and rap them in a start and end tag\n",
    "            syntax = load_doc(data_dir+filename)\n",
    "            # Seperate all the words with a single space\n",
    "            syntax = ' '.join(syntax.split())\n",
    "            # Add a space after each comma\n",
    "            syntax = syntax.replace(',', ' ,')\n",
    "            text.append(syntax)\n",
    "    images = np.array(images, dtype=float)\n",
    "    return images, text"
   ]
  },
  {
   "cell_type": "code",
   "execution_count": 3,
   "metadata": {},
   "outputs": [
    {
     "name": "stdout",
     "output_type": "stream",
     "text": [
      "image.gui\n",
      "inside\n",
      "navigation-personal-top-right.gui\n",
      "inside\n",
      "navigation-personal-top-right.png\n",
      "navigation-side-bar.gui\n",
      "inside\n",
      "navigation-side-bar.png\n",
      "navigation-toppanel-left.gui\n",
      "inside\n",
      "navigation-toppanel-left.png\n",
      "navigation-toppanel-right.gui\n",
      "inside\n",
      "navigation-toppanel-right.png\n",
      "sample.gui\n",
      "inside\n",
      "sample.png\n"
     ]
    }
   ],
   "source": [
    "train_features, texts = load_data(getcwd() + '/resources/eval_light/')\n"
   ]
  },
  {
   "cell_type": "code",
   "execution_count": 4,
   "metadata": {},
   "outputs": [
    {
     "name": "stdout",
     "output_type": "stream",
     "text": [
      "{ body { header {} top-body { main-navigation { navigation-top-wrapper { navigation-personal-top-right{} } } }\n"
     ]
    }
   ],
   "source": [
    "print(texts[1])"
   ]
  },
  {
   "cell_type": "code",
   "execution_count": 5,
   "metadata": {},
   "outputs": [
    {
     "name": "stdout",
     "output_type": "stream",
     "text": [
      "<html class=\"client-js gr__en_wikipedia_org ve-not-available\" lang=\"en\" dir=\"ltr\"><head><meta http-equiv=\"Content-Type\" content=\"text/html; charset=UTF-8\"> \n",
      " <html class=\"client-js gr__en_wikipedia_org ve-not-available\" lang=\"en\" dir=\"ltr\"><head><meta http-equiv=\"Content-Type\" content=\"text/html; charset=UTF-8\"> \n",
      " <div class=\"thumb tright\"><div class=\"thumbinner\" style=\"width:422px;\"><a href=\"file:///wiki/File:Dht_example_SVG.svg\" class=\"image\"><img alt=\"\" src=\"./sample/fff\" width=\"420\" height=\"224\" class=\"thumbimage\"></a><div class=\"thumbcaption\"><div class=\"magnify\"><a href=\"file:///wiki/File:Dht_example_SVG.svg\" class=\"internal\" title=\"Enlarge\"></a></div>420X224</div></div></div> \n",
      " </html> \n",
      " </html>\n"
     ]
    }
   ],
   "source": [
    "dsl_path = \"./compiler/assets/wiki-dsl-mapping.json\"\n",
    "compiler = Compiler(dsl_path)\n",
    "compiled_website = compiler.compile(texts[0], 'index.html')\n",
    "print(compiled_website)"
   ]
  },
  {
   "cell_type": "code",
   "execution_count": 6,
   "metadata": {},
   "outputs": [
    {
     "name": "stdout",
     "output_type": "stream",
     "text": [
      "image.gui                         navigation-toppanel-left.png\r\n",
      "navigation-personal-top-right.gui navigation-toppanel-right.gui\r\n",
      "navigation-personal-top-right.png navigation-toppanel-right.png\r\n",
      "navigation-side-bar.gui           sample.gui\r\n",
      "navigation-side-bar.png           sample.png\r\n",
      "navigation-toppanel-left.gui\r\n"
     ]
    }
   ],
   "source": [
    "#!pwd\n",
    "!ls ./resources/eval_light/"
   ]
  },
  {
   "cell_type": "code",
   "execution_count": null,
   "metadata": {},
   "outputs": [],
   "source": []
  }
 ],
 "metadata": {
  "kernelspec": {
   "display_name": "Python 3",
   "language": "python",
   "name": "python3"
  },
  "language_info": {
   "codemirror_mode": {
    "name": "ipython",
    "version": 3
   },
   "file_extension": ".py",
   "mimetype": "text/x-python",
   "name": "python",
   "nbconvert_exporter": "python",
   "pygments_lexer": "ipython3",
   "version": "3.6.5"
  }
 },
 "nbformat": 4,
 "nbformat_minor": 2
}
